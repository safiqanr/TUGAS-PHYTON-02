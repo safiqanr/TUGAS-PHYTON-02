{
 "cells": [
  {
   "cell_type": "code",
   "execution_count": 7,
   "metadata": {},
   "outputs": [],
   "source": [
    "import pandas as pd"
   ]
  },
  {
   "cell_type": "code",
   "execution_count": 32,
   "metadata": {},
   "outputs": [],
   "source": [
    "penduduk = pd.read_csv('http://data.jakarta.go.id/dataset/939e8992-950a-44cf-863c-852705304707/resource/d7b91a9b-71a5-4df7-ab56-341f8f7dc1f7/download/DATA-JUMLAH-PENDUDUK-MENURUT-JENIS-KELAMIN-DAN-RASIO-JENIS-KELAMIN-2019.csv')"
   ]
  },
  {
   "cell_type": "code",
   "execution_count": 33,
   "metadata": {},
   "outputs": [
    {
     "data": {
      "text/html": [
       "<div>\n",
       "<style scoped>\n",
       "    .dataframe tbody tr th:only-of-type {\n",
       "        vertical-align: middle;\n",
       "    }\n",
       "\n",
       "    .dataframe tbody tr th {\n",
       "        vertical-align: top;\n",
       "    }\n",
       "\n",
       "    .dataframe thead th {\n",
       "        text-align: right;\n",
       "    }\n",
       "</style>\n",
       "<table border=\"1\" class=\"dataframe\">\n",
       "  <thead>\n",
       "    <tr style=\"text-align: right;\">\n",
       "      <th></th>\n",
       "      <th>tahun</th>\n",
       "      <th>nama_kota</th>\n",
       "      <th>jumlah_laki-laki</th>\n",
       "      <th>jumlah_perempuan</th>\n",
       "      <th>rasio_jenis_kelamin</th>\n",
       "    </tr>\n",
       "  </thead>\n",
       "  <tbody>\n",
       "    <tr>\n",
       "      <td>0</td>\n",
       "      <td>2019</td>\n",
       "      <td>KEP.SERIBU</td>\n",
       "      <td>14682</td>\n",
       "      <td>14326</td>\n",
       "      <td>102</td>\n",
       "    </tr>\n",
       "    <tr>\n",
       "      <td>1</td>\n",
       "      <td>2019</td>\n",
       "      <td>JAKARTA PUSAT</td>\n",
       "      <td>578430</td>\n",
       "      <td>570017</td>\n",
       "      <td>101</td>\n",
       "    </tr>\n",
       "    <tr>\n",
       "      <td>2</td>\n",
       "      <td>2019</td>\n",
       "      <td>JAKARTA UTARA</td>\n",
       "      <td>919172</td>\n",
       "      <td>899878</td>\n",
       "      <td>102</td>\n",
       "    </tr>\n",
       "    <tr>\n",
       "      <td>3</td>\n",
       "      <td>2019</td>\n",
       "      <td>JAKARTA BARAT</td>\n",
       "      <td>1281363</td>\n",
       "      <td>1255794</td>\n",
       "      <td>102</td>\n",
       "    </tr>\n",
       "    <tr>\n",
       "      <td>4</td>\n",
       "      <td>2019</td>\n",
       "      <td>JAKARTA SELATAN</td>\n",
       "      <td>1174616</td>\n",
       "      <td>1168662</td>\n",
       "      <td>101</td>\n",
       "    </tr>\n",
       "  </tbody>\n",
       "</table>\n",
       "</div>"
      ],
      "text/plain": [
       "   tahun        nama_kota  jumlah_laki-laki  jumlah_perempuan  \\\n",
       "0   2019       KEP.SERIBU             14682             14326   \n",
       "1   2019    JAKARTA PUSAT            578430            570017   \n",
       "2   2019    JAKARTA UTARA            919172            899878   \n",
       "3   2019    JAKARTA BARAT           1281363           1255794   \n",
       "4   2019  JAKARTA SELATAN           1174616           1168662   \n",
       "\n",
       "   rasio_jenis_kelamin  \n",
       "0                  102  \n",
       "1                  101  \n",
       "2                  102  \n",
       "3                  102  \n",
       "4                  101  "
      ]
     },
     "execution_count": 33,
     "metadata": {},
     "output_type": "execute_result"
    }
   ],
   "source": [
    "penduduk.head()"
   ]
  },
  {
   "cell_type": "code",
   "execution_count": 34,
   "metadata": {
    "scrolled": true
   },
   "outputs": [
    {
     "data": {
      "text/html": [
       "<div>\n",
       "<style scoped>\n",
       "    .dataframe tbody tr th:only-of-type {\n",
       "        vertical-align: middle;\n",
       "    }\n",
       "\n",
       "    .dataframe tbody tr th {\n",
       "        vertical-align: top;\n",
       "    }\n",
       "\n",
       "    .dataframe thead th {\n",
       "        text-align: right;\n",
       "    }\n",
       "</style>\n",
       "<table border=\"1\" class=\"dataframe\">\n",
       "  <thead>\n",
       "    <tr style=\"text-align: right;\">\n",
       "      <th></th>\n",
       "      <th>tahun</th>\n",
       "      <th>nama_kota</th>\n",
       "      <th>jumlah_laki-laki</th>\n",
       "      <th>jumlah_perempuan</th>\n",
       "      <th>rasio_jenis_kelamin</th>\n",
       "    </tr>\n",
       "  </thead>\n",
       "  <tbody>\n",
       "    <tr>\n",
       "      <td>1</td>\n",
       "      <td>2019</td>\n",
       "      <td>JAKARTA PUSAT</td>\n",
       "      <td>578430</td>\n",
       "      <td>570017</td>\n",
       "      <td>101</td>\n",
       "    </tr>\n",
       "    <tr>\n",
       "      <td>2</td>\n",
       "      <td>2019</td>\n",
       "      <td>JAKARTA UTARA</td>\n",
       "      <td>919172</td>\n",
       "      <td>899878</td>\n",
       "      <td>102</td>\n",
       "    </tr>\n",
       "    <tr>\n",
       "      <td>3</td>\n",
       "      <td>2019</td>\n",
       "      <td>JAKARTA BARAT</td>\n",
       "      <td>1281363</td>\n",
       "      <td>1255794</td>\n",
       "      <td>102</td>\n",
       "    </tr>\n",
       "    <tr>\n",
       "      <td>4</td>\n",
       "      <td>2019</td>\n",
       "      <td>JAKARTA SELATAN</td>\n",
       "      <td>1174616</td>\n",
       "      <td>1168662</td>\n",
       "      <td>101</td>\n",
       "    </tr>\n",
       "    <tr>\n",
       "      <td>5</td>\n",
       "      <td>2019</td>\n",
       "      <td>JAKARTA TIMUR</td>\n",
       "      <td>1602376</td>\n",
       "      <td>1579628</td>\n",
       "      <td>101</td>\n",
       "    </tr>\n",
       "  </tbody>\n",
       "</table>\n",
       "</div>"
      ],
      "text/plain": [
       "   tahun        nama_kota  jumlah_laki-laki  jumlah_perempuan  \\\n",
       "1   2019    JAKARTA PUSAT            578430            570017   \n",
       "2   2019    JAKARTA UTARA            919172            899878   \n",
       "3   2019    JAKARTA BARAT           1281363           1255794   \n",
       "4   2019  JAKARTA SELATAN           1174616           1168662   \n",
       "5   2019    JAKARTA TIMUR           1602376           1579628   \n",
       "\n",
       "   rasio_jenis_kelamin  \n",
       "1                  101  \n",
       "2                  102  \n",
       "3                  102  \n",
       "4                  101  \n",
       "5                  101  "
      ]
     },
     "execution_count": 34,
     "metadata": {},
     "output_type": "execute_result"
    }
   ],
   "source": [
    "penduduk.tail()"
   ]
  },
  {
   "cell_type": "code",
   "execution_count": 35,
   "metadata": {},
   "outputs": [
    {
     "name": "stdout",
     "output_type": "stream",
     "text": [
      "<class 'pandas.core.frame.DataFrame'>\n",
      "RangeIndex: 6 entries, 0 to 5\n",
      "Data columns (total 5 columns):\n",
      "tahun                  6 non-null int64\n",
      "nama_kota              6 non-null object\n",
      "jumlah_laki-laki       6 non-null int64\n",
      "jumlah_perempuan       6 non-null int64\n",
      "rasio_jenis_kelamin    6 non-null int64\n",
      "dtypes: int64(4), object(1)\n",
      "memory usage: 368.0+ bytes\n"
     ]
    }
   ],
   "source": [
    "penduduk.info()"
   ]
  },
  {
   "cell_type": "code",
   "execution_count": 36,
   "metadata": {
    "scrolled": true
   },
   "outputs": [
    {
     "data": {
      "text/html": [
       "<div>\n",
       "<style scoped>\n",
       "    .dataframe tbody tr th:only-of-type {\n",
       "        vertical-align: middle;\n",
       "    }\n",
       "\n",
       "    .dataframe tbody tr th {\n",
       "        vertical-align: top;\n",
       "    }\n",
       "\n",
       "    .dataframe thead th {\n",
       "        text-align: right;\n",
       "    }\n",
       "</style>\n",
       "<table border=\"1\" class=\"dataframe\">\n",
       "  <thead>\n",
       "    <tr style=\"text-align: right;\">\n",
       "      <th></th>\n",
       "      <th>tahun</th>\n",
       "      <th>jumlah_laki-laki</th>\n",
       "      <th>jumlah_perempuan</th>\n",
       "      <th>rasio_jenis_kelamin</th>\n",
       "    </tr>\n",
       "  </thead>\n",
       "  <tbody>\n",
       "    <tr>\n",
       "      <td>count</td>\n",
       "      <td>6.0</td>\n",
       "      <td>6.000000e+00</td>\n",
       "      <td>6.000000e+00</td>\n",
       "      <td>6.000000</td>\n",
       "    </tr>\n",
       "    <tr>\n",
       "      <td>mean</td>\n",
       "      <td>2019.0</td>\n",
       "      <td>9.284398e+05</td>\n",
       "      <td>9.147175e+05</td>\n",
       "      <td>101.500000</td>\n",
       "    </tr>\n",
       "    <tr>\n",
       "      <td>std</td>\n",
       "      <td>0.0</td>\n",
       "      <td>5.651360e+05</td>\n",
       "      <td>5.572559e+05</td>\n",
       "      <td>0.547723</td>\n",
       "    </tr>\n",
       "    <tr>\n",
       "      <td>min</td>\n",
       "      <td>2019.0</td>\n",
       "      <td>1.468200e+04</td>\n",
       "      <td>1.432600e+04</td>\n",
       "      <td>101.000000</td>\n",
       "    </tr>\n",
       "    <tr>\n",
       "      <td>25%</td>\n",
       "      <td>2019.0</td>\n",
       "      <td>6.636155e+05</td>\n",
       "      <td>6.524822e+05</td>\n",
       "      <td>101.000000</td>\n",
       "    </tr>\n",
       "    <tr>\n",
       "      <td>50%</td>\n",
       "      <td>2019.0</td>\n",
       "      <td>1.046894e+06</td>\n",
       "      <td>1.034270e+06</td>\n",
       "      <td>101.500000</td>\n",
       "    </tr>\n",
       "    <tr>\n",
       "      <td>75%</td>\n",
       "      <td>2019.0</td>\n",
       "      <td>1.254676e+06</td>\n",
       "      <td>1.234011e+06</td>\n",
       "      <td>102.000000</td>\n",
       "    </tr>\n",
       "    <tr>\n",
       "      <td>max</td>\n",
       "      <td>2019.0</td>\n",
       "      <td>1.602376e+06</td>\n",
       "      <td>1.579628e+06</td>\n",
       "      <td>102.000000</td>\n",
       "    </tr>\n",
       "  </tbody>\n",
       "</table>\n",
       "</div>"
      ],
      "text/plain": [
       "        tahun  jumlah_laki-laki  jumlah_perempuan  rasio_jenis_kelamin\n",
       "count     6.0      6.000000e+00      6.000000e+00             6.000000\n",
       "mean   2019.0      9.284398e+05      9.147175e+05           101.500000\n",
       "std       0.0      5.651360e+05      5.572559e+05             0.547723\n",
       "min    2019.0      1.468200e+04      1.432600e+04           101.000000\n",
       "25%    2019.0      6.636155e+05      6.524822e+05           101.000000\n",
       "50%    2019.0      1.046894e+06      1.034270e+06           101.500000\n",
       "75%    2019.0      1.254676e+06      1.234011e+06           102.000000\n",
       "max    2019.0      1.602376e+06      1.579628e+06           102.000000"
      ]
     },
     "execution_count": 36,
     "metadata": {},
     "output_type": "execute_result"
    }
   ],
   "source": [
    "penduduk.describe()"
   ]
  },
  {
   "cell_type": "code",
   "execution_count": 46,
   "metadata": {
    "scrolled": true
   },
   "outputs": [
    {
     "data": {
      "text/html": [
       "<div>\n",
       "<style scoped>\n",
       "    .dataframe tbody tr th:only-of-type {\n",
       "        vertical-align: middle;\n",
       "    }\n",
       "\n",
       "    .dataframe tbody tr th {\n",
       "        vertical-align: top;\n",
       "    }\n",
       "\n",
       "    .dataframe thead th {\n",
       "        text-align: right;\n",
       "    }\n",
       "</style>\n",
       "<table border=\"1\" class=\"dataframe\">\n",
       "  <thead>\n",
       "    <tr style=\"text-align: right;\">\n",
       "      <th></th>\n",
       "      <th>tahun</th>\n",
       "      <th>jumlah_perempuan</th>\n",
       "      <th>rasio_jenis_kelamin</th>\n",
       "    </tr>\n",
       "    <tr>\n",
       "      <th>jumlah_laki-laki</th>\n",
       "      <th></th>\n",
       "      <th></th>\n",
       "      <th></th>\n",
       "    </tr>\n",
       "  </thead>\n",
       "  <tbody>\n",
       "    <tr>\n",
       "      <td>14682</td>\n",
       "      <td>2019</td>\n",
       "      <td>14326</td>\n",
       "      <td>102</td>\n",
       "    </tr>\n",
       "    <tr>\n",
       "      <td>578430</td>\n",
       "      <td>2019</td>\n",
       "      <td>570017</td>\n",
       "      <td>101</td>\n",
       "    </tr>\n",
       "    <tr>\n",
       "      <td>919172</td>\n",
       "      <td>2019</td>\n",
       "      <td>899878</td>\n",
       "      <td>102</td>\n",
       "    </tr>\n",
       "    <tr>\n",
       "      <td>1174616</td>\n",
       "      <td>2019</td>\n",
       "      <td>1168662</td>\n",
       "      <td>101</td>\n",
       "    </tr>\n",
       "    <tr>\n",
       "      <td>1281363</td>\n",
       "      <td>2019</td>\n",
       "      <td>1255794</td>\n",
       "      <td>102</td>\n",
       "    </tr>\n",
       "    <tr>\n",
       "      <td>1602376</td>\n",
       "      <td>2019</td>\n",
       "      <td>1579628</td>\n",
       "      <td>101</td>\n",
       "    </tr>\n",
       "  </tbody>\n",
       "</table>\n",
       "</div>"
      ],
      "text/plain": [
       "                  tahun  jumlah_perempuan  rasio_jenis_kelamin\n",
       "jumlah_laki-laki                                              \n",
       "14682              2019             14326                  102\n",
       "578430             2019            570017                  101\n",
       "919172             2019            899878                  102\n",
       "1174616            2019           1168662                  101\n",
       "1281363            2019           1255794                  102\n",
       "1602376            2019           1579628                  101"
      ]
     },
     "execution_count": 46,
     "metadata": {},
     "output_type": "execute_result"
    }
   ],
   "source": [
    "penduduk.groupby('jumlah_laki-laki').mean()"
   ]
  },
  {
   "cell_type": "code",
   "execution_count": 47,
   "metadata": {},
   "outputs": [],
   "source": [
    "import numpy as np"
   ]
  },
  {
   "cell_type": "code",
   "execution_count": 48,
   "metadata": {},
   "outputs": [],
   "source": [
    "import matplotlib.pyplot as plt"
   ]
  },
  {
   "cell_type": "code",
   "execution_count": 49,
   "metadata": {
    "scrolled": false
   },
   "outputs": [
    {
     "data": {
      "image/png": "[encoded data removed]",
      "text/plain": [
       "<Figure size 360x360 with 1 Axes>"
      ]
     },
     "metadata": {
      "needs_background": "light"
     },
     "output_type": "display_data"
    }
   ],
   "source": [
    "plt.figure(figsize=(5,5)) \n",
    "plt.plot(penduduk ['jumlah_laki-laki'], label='laki-laki') \n",
    "plt.plot(penduduk ['jumlah_perempuan'], label='perempuan') \n",
    "plt.xlabel('data count 2019') \n",
    "plt.ylabel('penduduk') \n",
    "plt.title('Jumlah Penduduk Menurut Jenis Kelamin dan Rasio Jenis Kelamin Provinsi DKI Jakarta') \n",
    "plt.legend() \n",
    "plt.show() "
   ]
  }
 ],
 "metadata": {
  "kernelspec": {
   "display_name": "Python 3",
   "language": "python",
   "name": "python3"
  },
  "language_info": {
   "codemirror_mode": {
    "name": "ipython",
    "version": 3
   },
   "file_extension": ".py",
   "mimetype": "text/x-python",
   "name": "python",
   "nbconvert_exporter": "python",
   "pygments_lexer": "ipython3",
   "version": "3.7.4"
  }
 },
 "nbformat": 4,
 "nbformat_minor": 2
}
